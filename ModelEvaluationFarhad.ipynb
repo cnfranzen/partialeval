{
 "cells": [
  {
   "cell_type": "code",
   "execution_count": 1,
   "id": "d33b5b14",
   "metadata": {},
   "outputs": [],
   "source": [
    "from ActiveTestingRegression import *\n",
    "from sklearn.preprocessing import StandardScaler\n",
    "from sklearn.pipeline import Pipeline\n",
    "from sklearn.preprocessing import PolynomialFeatures\n",
    "from sklearn.model_selection import GridSearchCV\n",
    "\n",
    "import warnings\n",
    "warnings.filterwarnings('ignore')"
   ]
  },
  {
   "cell_type": "markdown",
   "id": "3e02b908",
   "metadata": {},
   "source": [
    "### Nonlinear Regression - 1D data"
   ]
  },
  {
   "cell_type": "code",
   "execution_count": null,
   "id": "143eaa1e",
   "metadata": {},
   "outputs": [],
   "source": [
    "rng = np.random.RandomState(2)\n",
    "\n",
    "N = 60\n",
    "data_max, data_min = 1.4, -1.4\n",
    "len_data = (data_max - data_min)\n",
    "data = np.sort(rng.rand(N) * len_data - len_data / 2)\n",
    "noise = rng.randn(N) * 0.1\n",
    "target = data ** 3 - 0.5 * data ** 2 +  noise\n",
    "\n",
    "X, y = data, target \n",
    "\n",
    "# D_train and D_test\n",
    "X_train, X_test, y_train, y_test = train_test_split(\n",
    "    X, y, test_size=0.5, random_state=15) # 11\n",
    "\n",
    "# learner  \n",
    "reg_learner = Pipeline([\n",
    "            (\"polynomial_features\", PolynomialFeatures(degree=2, include_bias=False)),\n",
    "            (\"std\", StandardScaler()),\n",
    "            (\"linear_regression\", Ridge())])\n",
    "\n",
    "\n",
    "reg_learner.fit(X_train[:,np.newaxis], y_train)\n",
    "\n",
    "y_pred = reg_learner.predict(X_test[:,np.newaxis])\n",
    "\n",
    "full_loss = np.sqrt(quadratic_loss(y_test, y_pred).mean())\n",
    "\n",
    "print(full_loss)\n"
   ]
  },
  {
   "cell_type": "code",
   "execution_count": null,
   "id": "49696265",
   "metadata": {},
   "outputs": [],
   "source": [
    "num_exp = 100 \n",
    "N = len(X_test)\n",
    "M_values = np.array([0.1, 0.2, 0.3, 0.4, 0.5]) * N\n",
    "M_values = M_values.astype(int)\n",
    "result_uni = np.zeros((num_exp, len(M_values))) # uniform \n",
    "result_mod_weighted   = np.zeros((num_exp, len(M_values))) # nonuniform, weighted (unbiased)\n",
    "result_mod_unweighted = np.zeros((num_exp, len(M_values))) # nonuniform, unweighted (biased)\n",
    "result_var_weighted   = np.zeros((num_exp, len(M_values))) # nonuniform (Var only), weighted (unbiased)\n",
    "\n",
    "\n",
    "for i in range(len(M_values)):    \n",
    "    M = M_values[i]\n",
    "    print('---' + str(M) + '---')\n",
    "    \n",
    "    for exp in range(num_exp):\n",
    "        # uniform \n",
    "        observed_idx = np.random.choice(N, M, replace=False)\n",
    "        weights = np.ones(M)/M \n",
    "        result_uni[exp, i] = np.sqrt(risk_estimator_partial(y_test[observed_idx], y_pred[observed_idx], N,  \n",
    "                       weights, quadratic_loss, mode='unweighted'))\n",
    "        \n",
    "        # nonuniform, unweighted \n",
    "        observed_idx, weights = surrogate_sampling(X_train[:,np.newaxis], y_train, X_test[:,np.newaxis], y_pred,\n",
    "                                                    M, input_shape=(1,), hidden_units=5, dropout_rate = 0.1,\n",
    "                                                      learning_rate = 0.01,  mode='BiasVar', loss=quadratic_loss)\n",
    "\n",
    "        result_mod_unweighted[exp, i] = np.sqrt(risk_estimator_partial(y_test[observed_idx], y_pred[observed_idx], N,  \n",
    "                       weights, quadratic_loss, mode='unweighted'))\n",
    "\n",
    "        # nonuniform, weighted \n",
    "        result_mod_weighted[exp, i] = np.sqrt(risk_estimator_partial(y_test[observed_idx], y_pred[observed_idx], N,  \n",
    "                       weights, quadratic_loss, mode='weighted'))\n",
    "        \n",
    "        # Var only, weighted \n",
    "        observed_idx, weights = surrogate_sampling(X_train[:,np.newaxis], y_train, X_test[:,np.newaxis], y_pred,\n",
    "                                                    M, input_shape=(1,), hidden_units=5, dropout_rate = 0.1,\n",
    "                                                      learning_rate = 0.01,  mode='Var', loss=quadratic_loss)\n",
    "        result_var_weighted[exp, i] = np.sqrt(risk_estimator_partial(y_test[observed_idx], y_pred[observed_idx], N,  \n",
    "                       weights, quadratic_loss, mode='weighted'))\n",
    "        "
   ]
  },
  {
   "cell_type": "code",
   "execution_count": null,
   "id": "0b774958",
   "metadata": {},
   "outputs": [],
   "source": [
    "from scipy.io import savemat, loadmat \n",
    "mdic = {\"result_uni\": result_uni,\n",
    "        \"result_mod_weighted\": result_mod_weighted,\n",
    "        \"result_mod_unweighted\": result_mod_unweighted,\n",
    "        \"result_var_weighted\": result_var_weighted}\n",
    "\n",
    "savemat(\"results_synthetic.mat\", mdic)"
   ]
  },
  {
   "cell_type": "code",
   "execution_count": null,
   "id": "4fee5e6a",
   "metadata": {},
   "outputs": [],
   "source": [
    "full_loss = np.sqrt(quadratic_loss(y_test, y_pred).mean())\n",
    "\n",
    "# plot results  \n",
    "plt.rcParams.update({'font.size': 16, \"figure.figsize\": (6,3.5)})\n",
    "fig = plt.figure()\n",
    "ax = fig.add_axes([0,0,1,1])\n",
    "calc_width = 0.2 * (M_values[1] - M_values[0])\n",
    "ax.bar(M_values - 1.5*  calc_width, result_uni.mean(axis=0), yerr= result_uni.std(axis=0).reshape(1,-1), color = 'royalblue', ecolor='darkblue', width = calc_width, capsize=4, label='Uniform')\n",
    "ax.bar(M_values  - 0.5*  calc_width, result_mod_unweighted.mean(axis=0), yerr= result_mod_unweighted.std(axis=0).reshape(1,-1), color = 'bisque', ecolor='darkorange', width = calc_width, capsize=4, label='BNN, unweighted')\n",
    "ax.bar(M_values + 0.5*  calc_width, result_var_weighted.mean(axis=0), yerr= result_var_weighted.std(axis=0).reshape(1,-1), color = 'salmon', ecolor='maroon', width = calc_width, capsize=4, label='Var, weighted')\n",
    "ax.bar(M_values + 1.5*  calc_width, result_mod_weighted.mean(axis=0), yerr= result_mod_weighted.std(axis=0).reshape(1,-1), color = 'limegreen', ecolor='darkgreen', width = calc_width, capsize=4, label='BNN, weighted')\n",
    "\n",
    "plt.axhline(y = full_loss, color = 'k', linestyle = ':')\n",
    "ax.set_xticks(M_values)\n",
    "ax.set_ylabel('error estimate (mean+/-std)', fontsize=19)\n",
    "ax.set_xlabel('test data size $M$', fontsize=19)\n",
    "ax.set_ylim(0,result_mod_unweighted.max())\n",
    "ax.legend(ncol=2, fontsize=14, framealpha=0.5)\n",
    "fig_name = 'syn_bnn_acc.png'\n",
    "plt.savefig(fig_name, bbox_inches='tight', dpi=400)\n",
    "plt.show()"
   ]
  },
  {
   "cell_type": "markdown",
   "id": "3c2c8cc2",
   "metadata": {},
   "source": [
    "### Real problem 1"
   ]
  },
  {
   "cell_type": "code",
   "execution_count": 2,
   "id": "1502f8fa",
   "metadata": {},
   "outputs": [
    {
     "name": "stdout",
     "output_type": "stream",
     "text": [
      "2.4078988471574037 (384, 7)\n"
     ]
    }
   ],
   "source": [
    "df = pd.read_excel('ENB2012_data.xlsx')\n",
    "\n",
    "X = df.iloc[:,:7].to_numpy()\n",
    "\n",
    "y = df['Y1'].to_numpy()\n",
    "\n",
    "from sklearn.preprocessing import StandardScaler\n",
    "\n",
    "X = StandardScaler().fit_transform(X)\n",
    "\n",
    "# D_train and D_test\n",
    "X_train, X_test, y_train, y_test = train_test_split(\n",
    "    X, y, test_size=0.5, random_state=15) # 11\n",
    "\n",
    "# train \n",
    "reg_learner = Pipeline([\n",
    "            (\"polynomial_features\", PolynomialFeatures(degree=2, include_bias=False)),\n",
    "            (\"std\", StandardScaler()),\n",
    "            (\"linear_regression\", Ridge())])\n",
    "\n",
    "\n",
    "reg_learner.fit(X_train, y_train)\n",
    "\n",
    "y_pred = reg_learner.predict(X_test)\n",
    "\n",
    "full_loss = np.sqrt(quadratic_loss(y_test, y_pred).mean())\n",
    "\n",
    "print(full_loss, X_test.shape)\n",
    "\n"
   ]
  },
  {
   "cell_type": "code",
   "execution_count": 3,
   "id": "8b315894",
   "metadata": {},
   "outputs": [
    {
     "name": "stdout",
     "output_type": "stream",
     "text": [
      "---38---\n",
      "---76---\n",
      "---115---\n",
      "---153---\n",
      "---192---\n"
     ]
    }
   ],
   "source": [
    "num_exp = 50 \n",
    "N = len(X_test)\n",
    "M_values = np.array([0.1, 0.2, 0.3, 0.4, 0.5]) * N\n",
    "M_values = M_values.astype(int)\n",
    "result_uni = np.zeros((num_exp, len(M_values))) # uniform \n",
    "result_mod_weighted   = np.zeros((num_exp, len(M_values))) # nonuniform, weighted (unbiased)\n",
    "result_mod_unweighted = np.zeros((num_exp, len(M_values))) # nonuniform, unweighted (biased)\n",
    "result_var_weighted   = np.zeros((num_exp, len(M_values))) # nonuniform (Var only), weighted (unbiased)\n",
    "\n",
    "\n",
    "for i in range(len(M_values)):    \n",
    "    M = M_values[i]\n",
    "    print('---' + str(M) + '---')\n",
    "    \n",
    "    for exp in range(num_exp):\n",
    "        # uniform \n",
    "        observed_idx = np.random.choice(N, M, replace=False)\n",
    "        weights = np.ones(M)/M \n",
    "        result_uni[exp, i] = np.sqrt(risk_estimator_partial(y_test[observed_idx], y_pred[observed_idx], N,  \n",
    "                       weights, quadratic_loss, mode='unweighted'))\n",
    "        \n",
    "        # nonuniform, unweighted \n",
    "        observed_idx, weights = surrogate_sampling(X_train, y_train, X_test, y_pred,\n",
    "                                                    M, input_shape=(7,), hidden_units=10, dropout_rate = 0.1,\n",
    "                                                      learning_rate = 0.01,  mode='BiasVar', loss=quadratic_loss)\n",
    "\n",
    "        result_mod_unweighted[exp, i] = np.sqrt(risk_estimator_partial(y_test[observed_idx], y_pred[observed_idx], N,  \n",
    "                       weights, quadratic_loss, mode='unweighted'))\n",
    "\n",
    "        # nonuniform, weighted \n",
    "        result_mod_weighted[exp, i] = np.sqrt(risk_estimator_partial(y_test[observed_idx], y_pred[observed_idx], N,  \n",
    "                       weights, quadratic_loss, mode='weighted'))\n",
    "        \n",
    "        # Var only, weighted \n",
    "        observed_idx, weights = surrogate_sampling(X_train, y_train, X_test, y_pred,\n",
    "                                                    M, input_shape=(7,), hidden_units=10, dropout_rate = 0.1,\n",
    "                                                      learning_rate = 0.01,  mode='Var', loss=quadratic_loss)\n",
    "        result_var_weighted[exp, i] = np.sqrt(risk_estimator_partial(y_test[observed_idx], y_pred[observed_idx], N,  \n",
    "                       weights, quadratic_loss, mode='weighted'))\n",
    "        "
   ]
  },
  {
   "cell_type": "code",
   "execution_count": 4,
   "id": "3055e416",
   "metadata": {},
   "outputs": [],
   "source": [
    "from scipy.io import savemat, loadmat \n",
    "mdic = {\"result_uni\": result_uni,\n",
    "        \"result_mod_weighted\": result_mod_weighted,\n",
    "        \"result_mod_unweighted\": result_mod_unweighted,\n",
    "        \"result_var_weighted\": result_var_weighted}\n",
    "\n",
    "savemat(\"results_energy.mat\", mdic)"
   ]
  },
  {
   "cell_type": "code",
   "execution_count": 14,
   "id": "6505b2bd",
   "metadata": {},
   "outputs": [
    {
     "data": {
      "image/png": "[encoded data removed]",
      "text/plain": [
       "<Figure size 600x350 with 1 Axes>"
      ]
     },
     "metadata": {},
     "output_type": "display_data"
    }
   ],
   "source": [
    "full_loss = np.sqrt(quadratic_loss(y_test, y_pred).mean())\n",
    "\n",
    "# plot results  \n",
    "plt.rcParams.update({'font.size': 16, \"figure.figsize\": (6,3.5)})\n",
    "fig = plt.figure()\n",
    "ax = fig.add_axes([0,0,1,1])\n",
    "calc_width = 0.2 * (M_values[1] - M_values[0])\n",
    "ax.bar(M_values - 1*  calc_width, result_uni.mean(axis=0), yerr= result_uni.std(axis=0).reshape(1,-1), color = 'royalblue', ecolor='darkblue', width = calc_width, capsize=4, label='Uniform')\n",
    "ax.bar(M_values, result_mod_unweighted.mean(axis=0), yerr= result_mod_unweighted.std(axis=0).reshape(1,-1), color = 'bisque', ecolor='darkorange', width = calc_width, capsize=4, label='BNN, unweighted')\n",
    "ax.bar(M_values + 1*  calc_width, result_mod_weighted.mean(axis=0), yerr= result_mod_weighted.std(axis=0).reshape(1,-1), color = 'limegreen', ecolor='darkgreen', width = calc_width, capsize=4, label='BNN, weighted')\n",
    "\n",
    "plt.axhline(y = full_loss, color = 'k', linestyle = ':')\n",
    "ax.set_xticks(M_values)\n",
    "ax.set_ylabel('error estimate (mean+/-std)', fontsize=19)\n",
    "ax.set_xlabel('test data size $M$', fontsize=19)\n",
    "ax.set_ylim(1,result_mod_unweighted.max())\n",
    "ax.legend(ncol=2, fontsize=14, framealpha=0.5)\n",
    "fig_name = 'energy_bnn_acc.png'\n",
    "plt.savefig(fig_name, bbox_inches='tight', dpi=400)\n",
    "plt.show()"
   ]
  },
  {
   "cell_type": "code",
   "execution_count": null,
   "id": "41df1dbf",
   "metadata": {},
   "outputs": [],
   "source": [
    "result_mod_weighted.std(axis=0)/result_uni.std(axis=0)"
   ]
  },
  {
   "cell_type": "markdown",
   "id": "ecabc522",
   "metadata": {},
   "source": [
    "### Real problem 2\n",
    "\n",
    "https://www.kaggle.com/code/nityasreepaladugu/predicting-concrete-compressive-strength-with-ml/notebook"
   ]
  },
  {
   "cell_type": "code",
   "execution_count": null,
   "id": "f6bbb05c",
   "metadata": {},
   "outputs": [],
   "source": [
    "data = pd.read_csv(\"DataConc.csv\")\n",
    "\n",
    "data.head()"
   ]
  },
  {
   "cell_type": "code",
   "execution_count": null,
   "id": "48f0e004",
   "metadata": {},
   "outputs": [],
   "source": [
    "X = data.iloc[:,:-1].to_numpy()         # Features - All columns but last\n",
    "y = data.iloc[:,-1].to_numpy()          # Target - Last Column"
   ]
  },
  {
   "cell_type": "code",
   "execution_count": null,
   "id": "6e96327e",
   "metadata": {},
   "outputs": [],
   "source": [
    "X.shape, y.shape"
   ]
  },
  {
   "cell_type": "code",
   "execution_count": null,
   "id": "be9cb85a",
   "metadata": {},
   "outputs": [],
   "source": [
    "from sklearn.neural_network import MLPRegressor\n",
    "from sklearn.ensemble import RandomForestRegressor\n",
    "\n",
    "X = StandardScaler().fit_transform(X)\n",
    "\n",
    "# D_train and D_test\n",
    "X_train, X_test, y_train, y_test = train_test_split(\n",
    "    X, y, test_size=0.5, random_state=1) # 15\n",
    "\n",
    "# train \n",
    "reg_learner = DecisionTreeRegressor()\n",
    "\n",
    "\n",
    "reg_learner.fit(X_train, y_train)\n",
    "\n",
    "y_pred = reg_learner.predict(X_test)\n",
    "\n",
    "# evaluator 1 \n",
    "\n",
    "# search = GridSearchCV(\n",
    "#     SVR(kernel=\"rbf\"),\n",
    "#     param_grid={\"C\": [1e0, 1e1, 1e2, 1e3], \"gamma\": np.logspace(-2, 2, 5)},\n",
    "#     scoring='neg_root_mean_squared_error')\n",
    "\n",
    "\n",
    "# search.fit(X_train, y_train)\n",
    "\n",
    "# search.best_params_"
   ]
  },
  {
   "cell_type": "code",
   "execution_count": null,
   "id": "9103c376",
   "metadata": {},
   "outputs": [],
   "source": [
    "\n",
    "reg_evaluator = RandomForestRegressor(n_estimators=10)\n",
    "\n",
    "\n",
    "#reg_evaluator = SVR(kernel=\"rbf\", gamma=search.best_params_[\"gamma\"],\n",
    "#                    C=search.best_params_[\"C\"])"
   ]
  },
  {
   "cell_type": "code",
   "execution_count": null,
   "id": "8d6175f5",
   "metadata": {},
   "outputs": [],
   "source": [
    "num_exp = 100\n",
    "N = len(X_test)\n",
    "M_values = np.array([0.1, 0.2, 0.3, 0.4, 0.5]) * N\n",
    "M_values = M_values.astype(int)\n",
    "result_uni = np.zeros((num_exp, len(M_values))) # uniform \n",
    "result_mod_unweighted = np.zeros((num_exp, len(M_values))) # nonuniform, unweighted (biased)\n",
    "result_mod_weighted   = np.zeros((num_exp, len(M_values))) # nonuniform, weighted (unbiased)\n",
    "\n",
    "for i in range(len(M_values)):    \n",
    "    M = M_values[i]\n",
    "    print('---' + str(M) + '---')\n",
    "    \n",
    "    for exp in range(num_exp):\n",
    "        # uniform \n",
    "        observed_idx = np.random.choice(N, M, replace=False)\n",
    "        weights = np.ones(M)/M \n",
    "        result_uni[exp, i] = np.sqrt(risk_estimator_partial(y_test[observed_idx], y_pred[observed_idx], N,  \n",
    "                       weights, quadratic_loss, mode='unweighted'))\n",
    "        \n",
    "        # nonuniform, unweighted \n",
    "        observed_idx, weights = surrogate_sampling(X_train, y_train,\n",
    "                                           X_test, y_pred, M, reg_evaluator, loss=quadratic_loss)\n",
    "        \n",
    "        result_mod_unweighted[exp, i] = np.sqrt(risk_estimator_partial(y_test[observed_idx], y_pred[observed_idx], N,  \n",
    "                       weights, quadratic_loss, mode='unweighted'))\n",
    "\n",
    "        # nonuniform, weighted \n",
    "        result_mod_weighted[exp, i] = np.sqrt(risk_estimator_partial(y_test[observed_idx], y_pred[observed_idx], N,  \n",
    "                       weights, quadratic_loss, mode='weighted'))\n",
    "        "
   ]
  },
  {
   "cell_type": "code",
   "execution_count": null,
   "id": "425cddc4",
   "metadata": {},
   "outputs": [],
   "source": [
    "full_loss = np.sqrt(quadratic_loss(y_test, y_pred).mean())\n",
    "\n",
    "# plot results  \n",
    "plt.rcParams.update({'font.size': 16, \"figure.figsize\": (6,3.5)})\n",
    "fig = plt.figure()\n",
    "ax = fig.add_axes([0,0,1,1])\n",
    "calc_width = 0.2 * (M_values[1] - M_values[0])\n",
    "ax.bar(M_values - calc_width, result_uni.mean(axis=0), yerr= result_uni.std(axis=0).reshape(1,-1), color = 'royalblue', ecolor='darkblue', width = calc_width, capsize=3)\n",
    "ax.bar(M_values , result_mod_unweighted.mean(axis=0), yerr= result_mod_unweighted.std(axis=0).reshape(1,-1), color = 'bisque', ecolor='darkorange', width = calc_width, capsize=3)\n",
    "ax.bar(M_values + calc_width, result_mod_weighted.mean(axis=0), yerr= result_mod_weighted.std(axis=0).reshape(1,-1), color = 'limegreen', ecolor='darkgreen', width = calc_width, capsize=3)\n",
    "\n",
    "plt.axhline(y = full_loss, color = 'r', linestyle = ':')\n",
    "ax.set_xticks(M_values)\n",
    "ax.set_ylabel('error estimate (mean+/-std)', fontsize=19)\n",
    "ax.set_xlabel('test data size $M$', fontsize=19)\n",
    "ax.set_ylim(0,result_mod_unweighted.max())\n",
    "ax.legend(labels=['test error $R$', 'uniform', 'surrogate RF, unweighted',  'surrogate RF, weighted'], ncol=2, fontsize=14, framealpha=0.5)\n",
    "fig_name = 'concrete_RF_acc.png'\n",
    "plt.savefig(fig_name, bbox_inches='tight', dpi=200)\n",
    "plt.show()\n"
   ]
  },
  {
   "cell_type": "code",
   "execution_count": null,
   "id": "261d5e29",
   "metadata": {},
   "outputs": [],
   "source": [
    "result_uni.std(axis=0)"
   ]
  },
  {
   "cell_type": "code",
   "execution_count": null,
   "id": "2b570b11",
   "metadata": {},
   "outputs": [],
   "source": [
    "result_mod_weighted.std(axis=0)"
   ]
  },
  {
   "cell_type": "code",
   "execution_count": null,
   "id": "2e410a3c",
   "metadata": {},
   "outputs": [],
   "source": [
    "full_loss"
   ]
  },
  {
   "cell_type": "code",
   "execution_count": null,
   "id": "cd8110ec",
   "metadata": {},
   "outputs": [],
   "source": [
    "# evaluator 2 \n",
    "\n",
    "# from sklearn.ensemble import ExtraTreesRegressor\n",
    "\n",
    "# reg_evaluator = ExtraTreesRegressor(n_estimators=100)\n",
    "\n",
    "# from sklearn.ensemble import BaggingRegressor\n",
    "\n",
    "# from sklearn.tree import ExtraTreeRegressor\n",
    "\n",
    "# reg_evaluator = BaggingRegressor(ExtraTreeRegressor())\n",
    "\n",
    "from sklearn.ensemble import AdaBoostRegressor\n",
    "\n",
    "reg_evaluator = AdaBoostRegressor(base_estimator = DecisionTreeRegressor(), n_estimators=10)\n"
   ]
  },
  {
   "cell_type": "code",
   "execution_count": null,
   "id": "7fa5e9f0",
   "metadata": {},
   "outputs": [],
   "source": []
  },
  {
   "cell_type": "code",
   "execution_count": null,
   "id": "a78f995c",
   "metadata": {},
   "outputs": [],
   "source": [
    "num_exp = 100\n",
    "N = len(X_test)\n",
    "M_values = np.array([0.1, 0.2, 0.3, 0.4, 0.5]) * N\n",
    "M_values = M_values.astype(int)\n",
    "#result_uni = np.zeros((num_exp, len(M_values))) # uniform \n",
    "result_mod_unweighted = np.zeros((num_exp, len(M_values))) # nonuniform, unweighted (biased)\n",
    "result_mod_weighted   = np.zeros((num_exp, len(M_values))) # nonuniform, weighted (unbiased)\n",
    "\n",
    "for i in range(len(M_values)):    \n",
    "    M = M_values[i]\n",
    "    print('---' + str(M) + '---')\n",
    "    \n",
    "    for exp in range(num_exp):\n",
    "#         # uniform \n",
    "#         observed_idx = np.random.choice(N, M, replace=False)\n",
    "#         weights = np.ones(M)/M \n",
    "#         result_uni[exp, i] = np.sqrt(risk_estimator_partial(y_test[observed_idx], y_pred[observed_idx], N,  \n",
    "#                        weights, quadratic_loss, mode='unweighted'))\n",
    "        \n",
    "        # nonuniform, unweighted \n",
    "        observed_idx, weights = surrogate_sampling(X_train, y_train,\n",
    "                                           X_test, y_pred, M, reg_evaluator, loss=quadratic_loss)\n",
    "        \n",
    "        result_mod_unweighted[exp, i] = np.sqrt(risk_estimator_partial(y_test[observed_idx], y_pred[observed_idx], N,  \n",
    "                       weights, quadratic_loss, mode='unweighted'))\n",
    "\n",
    "        # nonuniform, weighted \n",
    "        result_mod_weighted[exp, i] = np.sqrt(risk_estimator_partial(y_test[observed_idx], y_pred[observed_idx], N,  \n",
    "                       weights, quadratic_loss, mode='weighted'))\n",
    "        "
   ]
  },
  {
   "cell_type": "code",
   "execution_count": null,
   "id": "cffe3b19",
   "metadata": {},
   "outputs": [],
   "source": [
    "full_loss = np.sqrt(quadratic_loss(y_test, y_pred).mean())\n",
    "\n",
    "# plot results  \n",
    "plt.rcParams.update({'font.size': 16, \"figure.figsize\": (6,3.5)})\n",
    "fig = plt.figure()\n",
    "ax = fig.add_axes([0,0,1,1])\n",
    "calc_width = 0.2 * (M_values[1] - M_values[0])\n",
    "ax.bar(M_values - calc_width, result_uni.mean(axis=0), yerr= result_uni.std(axis=0).reshape(1,-1), color = 'royalblue', ecolor='darkblue', width = calc_width, capsize=3)\n",
    "ax.bar(M_values , result_mod_unweighted.mean(axis=0), yerr= result_mod_unweighted.std(axis=0).reshape(1,-1), color = 'bisque', ecolor='darkorange', width = calc_width, capsize=3)\n",
    "ax.bar(M_values + calc_width, result_mod_weighted.mean(axis=0), yerr= result_mod_weighted.std(axis=0).reshape(1,-1), color = 'limegreen', ecolor='darkgreen', width = calc_width, capsize=3)\n",
    "\n",
    "plt.axhline(y = full_loss, color = 'r', linestyle = ':')\n",
    "ax.set_xticks(M_values)\n",
    "ax.set_ylabel('error estimate (mean+/-std)', fontsize=19)\n",
    "ax.set_xlabel('test data size $M$', fontsize=19)\n",
    "ax.set_ylim(0,result_mod_unweighted.max())\n",
    "ax.legend(labels=['test error $R$', 'uniform', 'surrogate AdaBoost, unweighted',  'surrogate AdaBoost, weighted'], ncol=2, fontsize=14, framealpha=0.5)\n",
    "fig_name = 'concrete_Ada_acc.png'\n",
    "plt.savefig(fig_name, bbox_inches='tight', dpi=200)\n",
    "plt.show()"
   ]
  },
  {
   "cell_type": "code",
   "execution_count": null,
   "id": "5ed5777f",
   "metadata": {},
   "outputs": [],
   "source": [
    "np.mean(result_uni.std(axis=0)/result_mod_weighted.std(axis=0))"
   ]
  },
  {
   "cell_type": "code",
   "execution_count": null,
   "id": "5f2fff12",
   "metadata": {},
   "outputs": [],
   "source": [
    "result_mod_weighted.std(axis=0)"
   ]
  },
  {
   "cell_type": "code",
   "execution_count": null,
   "id": "f1fd851a",
   "metadata": {},
   "outputs": [],
   "source": []
  },
  {
   "cell_type": "code",
   "execution_count": null,
   "id": "41846e8b",
   "metadata": {},
   "outputs": [],
   "source": []
  },
  {
   "cell_type": "code",
   "execution_count": null,
   "id": "fcac8b75",
   "metadata": {},
   "outputs": [],
   "source": []
  }
 ],
 "metadata": {
  "kernelspec": {
   "display_name": "Python 3 (ipykernel)",
   "language": "python",
   "name": "python3"
  },
  "language_info": {
   "codemirror_mode": {
    "name": "ipython",
    "version": 3
   },
   "file_extension": ".py",
   "mimetype": "text/x-python",
   "name": "python",
   "nbconvert_exporter": "python",
   "pygments_lexer": "ipython3",
   "version": "3.11.4"
  }
 },
 "nbformat": 4,
 "nbformat_minor": 5
}
