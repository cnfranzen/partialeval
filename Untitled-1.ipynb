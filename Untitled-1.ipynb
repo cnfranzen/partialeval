{
 "cells": [
  {
   "cell_type": "code",
   "execution_count": 2,
   "metadata": {},
   "outputs": [
    {
     "ename": "ModuleNotFoundError",
     "evalue": "No module named 'ActiveTestingRegression'",
     "output_type": "error",
     "traceback": [
      "\u001b[1;31m---------------------------------------------------------------------------\u001b[0m",
      "\u001b[1;31mModuleNotFoundError\u001b[0m                       Traceback (most recent call last)",
      "Cell \u001b[1;32mIn[2], line 1\u001b[0m\n\u001b[1;32m----> 1\u001b[0m \u001b[38;5;28;01mfrom\u001b[39;00m \u001b[38;5;21;01mActiveTestingRegression\u001b[39;00m \u001b[38;5;28;01mimport\u001b[39;00m \u001b[38;5;241m*\u001b[39m\n\u001b[0;32m      2\u001b[0m \u001b[38;5;28;01mfrom\u001b[39;00m \u001b[38;5;21;01msklearn\u001b[39;00m\u001b[38;5;21;01m.\u001b[39;00m\u001b[38;5;21;01mpreprocessing\u001b[39;00m \u001b[38;5;28;01mimport\u001b[39;00m StandardScaler\n\u001b[0;32m      3\u001b[0m \u001b[38;5;28;01mfrom\u001b[39;00m \u001b[38;5;21;01msklearn\u001b[39;00m\u001b[38;5;21;01m.\u001b[39;00m\u001b[38;5;21;01mpipeline\u001b[39;00m \u001b[38;5;28;01mimport\u001b[39;00m Pipeline\n",
      "\u001b[1;31mModuleNotFoundError\u001b[0m: No module named 'ActiveTestingRegression'"
     ]
    }
   ],
   "source": [
    "\n",
    "from ActiveTestingRegression import *\n",
    "from sklearn.preprocessing import StandardScaler\n",
    "from sklearn.pipeline import Pipeline\n",
    "from sklearn.preprocessing import PolynomialFeatures\n",
    "from sklearn.svm import SVR\n",
    "from sklearn.pipeline import make_pipeline\n",
    "from sklearn.tree import DecisionTreeRegressor\n",
    "from sklearn.model_selection import GridSearchCV\n",
    "\n",
    "reg_evaluator = SVR(kernel=\"rbf\", gamma=0.1, C=1000)\n",
    "\n",
    "mean, var = find_mean_var_bootstrap(X_train[:,np.newaxis], y_train, X_test[:,np.newaxis], reg_evaluator)\n",
    "\n",
    "probs = quadratic_loss(y_pred, mean) + var\n",
    "pmf = probs / probs.sum()\n",
    "\n",
    "\n",
    "# figure \n",
    "plt.rcParams.update({'font.size': 14, \"figure.figsize\": (6,3.5)})\n",
    "\n",
    "plt.plot(X_train, y_train, \"C5o\", markersize=5, label='$D_{train}$')\n",
    "\n",
    "plt.plot(X_new, reg_learner.predict(X_new[:,np.newaxis]), 'k:', label=\"trained $f$\")\n",
    "\n",
    "plt.errorbar(X_test, mean, yerr=var, ls='none', marker='s', c=\"C9\",\n",
    "             markersize=4, capsize=2, label='bootstrap results for $\\mathcal{X}_{test}$\\nsurrogate: SVR')\n",
    "\n",
    "\n",
    "plt.xlabel(\"$x$\")\n",
    "plt.ylabel(\"$y$\", rotation=0)\n",
    "plt.legend(fontsize=13)\n",
    "plt.ylim([-3.2,1.5])\n",
    "fig_name = 'syn_svr_vis.png'\n",
    "plt.savefig(fig_name, bbox_inches='tight', dpi=200)\n",
    "plt.show()"
   ]
  }
 ],
 "metadata": {
  "kernelspec": {
   "display_name": "base",
   "language": "python",
   "name": "python3"
  },
  "language_info": {
   "codemirror_mode": {
    "name": "ipython",
    "version": 3
   },
   "file_extension": ".py",
   "mimetype": "text/x-python",
   "name": "python",
   "nbconvert_exporter": "python",
   "pygments_lexer": "ipython3",
   "version": "3.11.7"
  }
 },
 "nbformat": 4,
 "nbformat_minor": 2
}
